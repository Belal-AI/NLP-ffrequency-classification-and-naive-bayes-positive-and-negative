{
  "nbformat": 4,
  "nbformat_minor": 0,
  "metadata": {
    "colab": {
      "name": "nlpclassification.ipynb",
      "provenance": [],
      "authorship_tag": "ABX9TyOG/YyQECJY8toy/7nd9BUR",
      "include_colab_link": true
    },
    "kernelspec": {
      "name": "python3",
      "display_name": "Python 3"
    },
    "language_info": {
      "name": "python"
    }
  },
  "cells": [
    {
      "cell_type": "markdown",
      "metadata": {
        "id": "view-in-github",
        "colab_type": "text"
      },
      "source": [
        "<a href=\"https://colab.research.google.com/github/FSDAwaesf/NLP-ffrequency-classification-and-naive-bayes-positive-and-negative/blob/main/nlpclassification.ipynb\" target=\"_parent\"><img src=\"https://colab.research.google.com/assets/colab-badge.svg\" alt=\"Open In Colab\"/></a>"
      ]
    },
    {
      "cell_type": "code",
      "execution_count": null,
      "metadata": {
        "id": "N7YL7Oy9RGBF"
      },
      "outputs": [],
      "source": [
        "import nltk\n",
        "import re"
      ]
    },
    {
      "cell_type": "code",
      "source": [
        "nltk.download('twitter_samples')\n",
        "nltk.download('stopwords')"
      ],
      "metadata": {
        "colab": {
          "base_uri": "https://localhost:8080/"
        },
        "id": "2e49atpsRXZz",
        "outputId": "bf4680c1-980e-4522-e711-ae9f5cc5ffd8"
      },
      "execution_count": 62,
      "outputs": [
        {
          "output_type": "stream",
          "name": "stdout",
          "text": [
            "[nltk_data] Downloading package twitter_samples to /root/nltk_data...\n",
            "[nltk_data]   Package twitter_samples is already up-to-date!\n",
            "[nltk_data] Downloading package stopwords to /root/nltk_data...\n",
            "[nltk_data]   Unzipping corpora/stopwords.zip.\n"
          ]
        },
        {
          "output_type": "execute_result",
          "data": {
            "text/plain": [
              "True"
            ]
          },
          "metadata": {},
          "execution_count": 62
        }
      ]
    },
    {
      "cell_type": "code",
      "source": [
        "from nltk.corpus import twitter_samples"
      ],
      "metadata": {
        "id": "ggBkqYW4Roko"
      },
      "execution_count": null,
      "outputs": []
    },
    {
      "cell_type": "code",
      "source": [
        "positive_tweets=twitter_samples.strings('positive_tweets.json')\n",
        "negative_tweets=twitter_samples.strings('negative_tweets.json')"
      ],
      "metadata": {
        "id": "00z9S9bMR32v"
      },
      "execution_count": null,
      "outputs": []
    },
    {
      "cell_type": "code",
      "source": [
        "len(positive_tweets)\n"
      ],
      "metadata": {
        "colab": {
          "base_uri": "https://localhost:8080/"
        },
        "id": "IMXp1-E9SkVI",
        "outputId": "a855713a-dfc4-4ec5-c839-6be6b50ae5ec"
      },
      "execution_count": null,
      "outputs": [
        {
          "output_type": "execute_result",
          "data": {
            "text/plain": [
              "5000"
            ]
          },
          "metadata": {},
          "execution_count": 11
        }
      ]
    },
    {
      "cell_type": "code",
      "source": [
        "len(negative_tweets)"
      ],
      "metadata": {
        "colab": {
          "base_uri": "https://localhost:8080/"
        },
        "id": "rRhNqAIXY5J9",
        "outputId": "366cfe7d-5b42-40b0-ad6a-5f257162466c"
      },
      "execution_count": null,
      "outputs": [
        {
          "output_type": "execute_result",
          "data": {
            "text/plain": [
              "5000"
            ]
          },
          "metadata": {},
          "execution_count": 12
        }
      ]
    },
    {
      "cell_type": "code",
      "source": [
        "negative_tweets[:10]"
      ],
      "metadata": {
        "colab": {
          "base_uri": "https://localhost:8080/"
        },
        "id": "uOTvkEZsY6AA",
        "outputId": "3aa1de60-c929-4c20-e032-b701b35d1395"
      },
      "execution_count": null,
      "outputs": [
        {
          "output_type": "execute_result",
          "data": {
            "text/plain": [
              "['hopeless for tmr :(',\n",
              " \"Everything in the kids section of IKEA is so cute. Shame I'm nearly 19 in 2 months :(\",\n",
              " '@Hegelbon That heart sliding into the waste basket. :(',\n",
              " '“@ketchBurning: I hate Japanese call him \"bani\" :( :(”\\n\\nMe too',\n",
              " 'Dang starting next week I have \"work\" :(',\n",
              " \"oh god, my babies' faces :( https://t.co/9fcwGvaki0\",\n",
              " '@RileyMcDonough make me smile :((',\n",
              " '@f0ggstar @stuartthull work neighbour on motors. Asked why and he said hates the updates on search :( http://t.co/XvmTUikWln',\n",
              " 'why?:(\"@tahuodyy: sialan:( https://t.co/Hv1i0xcrL2\"',\n",
              " 'Athabasca glacier was there in #1948 :-( #athabasca #glacier #jasper #jaspernationalpark #alberta #explorealberta #… http://t.co/dZZdqmf7Cz']"
            ]
          },
          "metadata": {},
          "execution_count": 33
        }
      ]
    },
    {
      "cell_type": "markdown",
      "source": [
        "## Data Cleaning "
      ],
      "metadata": {
        "id": "Lpw6iDd0dPGs"
      }
    },
    {
      "cell_type": "code",
      "source": [
        "def Clean_text(text):\n",
        "  text=re.sub(r'#[a-zA-Z0-9]*','',text) # delete \n",
        "  text=re.sub(r'https?:\\S+','',text)\n",
        "  text=re.sub(r'\\d+','',text)\n",
        "  text=re.sub(r'^\\s+','',text)\n",
        "  text=re.sub(r'\\s+$','',text)\n",
        "  text=re.sub(r'\\W',' ',text)\n",
        "  return text"
      ],
      "metadata": {
        "id": "n7aKkm6ZY-Bm"
      },
      "execution_count": 73,
      "outputs": []
    },
    {
      "cell_type": "code",
      "source": [
        "t=Clean_text(negative_tweets[9])\n",
        "t.split()"
      ],
      "metadata": {
        "colab": {
          "base_uri": "https://localhost:8080/"
        },
        "id": "QO62nSZLab-4",
        "outputId": "abb13169-4056-4b65-8c45-8458ed1bdc16"
      },
      "execution_count": null,
      "outputs": [
        {
          "output_type": "execute_result",
          "data": {
            "text/plain": [
              "['Athabasca', 'glacier', 'was', 'there', 'in']"
            ]
          },
          "metadata": {},
          "execution_count": 34
        }
      ]
    },
    {
      "cell_type": "code",
      "source": [
        "negative_tweets[9]"
      ],
      "metadata": {
        "colab": {
          "base_uri": "https://localhost:8080/",
          "height": 35
        },
        "id": "tJEgPvUFaeJu",
        "outputId": "833f17c8-84be-469d-b3b4-bb327894d493"
      },
      "execution_count": null,
      "outputs": [
        {
          "output_type": "execute_result",
          "data": {
            "text/plain": [
              "'Athabasca glacier was there in #1948 :-( #athabasca #glacier #jasper #jaspernationalpark #alberta #explorealberta #… http://t.co/dZZdqmf7Cz'"
            ],
            "application/vnd.google.colaboratory.intrinsic+json": {
              "type": "string"
            }
          },
          "metadata": {},
          "execution_count": 18
        }
      ]
    },
    {
      "cell_type": "code",
      "source": [
        "from nltk.stem import PorterStemmer\n",
        "from nltk.corpus import stopwords\n",
        "ps=PorterStemmer()\n",
        "stop_words = set(stopwords.words(\"english\"))\n"
      ],
      "metadata": {
        "id": "Bb2Uj7geoqs9"
      },
      "execution_count": 93,
      "outputs": []
    },
    {
      "cell_type": "code",
      "source": [
        "import string\n",
        "punkc=string.punctuation\n",
        "def preparing_wrods(tweets):\n",
        "  prepared_tweet=[]\n",
        "  for tweet in tweets:\n",
        "    tweet=Clean_text(tweet)\n",
        "    tweet=tweet.split()\n",
        "    tweet=[word for word in tweet if word.lower() not in stop_words]\n",
        "    tweet=[ps.stem(word) for word in tweet]\n",
        "    prepared_tweet.append(tweet)\n",
        "  return prepared_tweet\n",
        "\n",
        "\n",
        "    \n"
      ],
      "metadata": {
        "id": "vWWDNlW4aesn"
      },
      "execution_count": 113,
      "outputs": []
    },
    {
      "cell_type": "code",
      "source": [
        "preparing_wrods(negative_tweets[:10])"
      ],
      "metadata": {
        "id": "aTbWLIdcns4A",
        "colab": {
          "base_uri": "https://localhost:8080/"
        },
        "outputId": "b035e85f-5c30-466a-d064-4dd3c68a316f"
      },
      "execution_count": 115,
      "outputs": [
        {
          "output_type": "execute_result",
          "data": {
            "text/plain": [
              "[['hopeless', 'tmr'],\n",
              " ['everyth', 'kid', 'section', 'ikea', 'cute', 'shame', 'nearli', 'month'],\n",
              " ['hegelbon', 'heart', 'slide', 'wast', 'basket'],\n",
              " ['ketchburn', 'hate', 'japanes', 'call', 'bani'],\n",
              " ['dang', 'start', 'next', 'week', 'work'],\n",
              " ['oh', 'god', 'babi', 'face'],\n",
              " ['rileymcdonough', 'make', 'smile'],\n",
              " ['fggstar',\n",
              "  'stuartthul',\n",
              "  'work',\n",
              "  'neighbour',\n",
              "  'motor',\n",
              "  'ask',\n",
              "  'said',\n",
              "  'hate',\n",
              "  'updat',\n",
              "  'search'],\n",
              " ['tahuodyy', 'sialan'],\n",
              " ['athabasca', 'glacier']]"
            ]
          },
          "metadata": {},
          "execution_count": 115
        }
      ]
    },
    {
      "cell_type": "code",
      "source": [
        "negative_tweets[:10]"
      ],
      "metadata": {
        "colab": {
          "base_uri": "https://localhost:8080/",
          "height": 35
        },
        "id": "tAAvtlHJptTb",
        "outputId": "a9085326-0ec4-483a-8dc2-052c6d2995ec"
      },
      "execution_count": 54,
      "outputs": [
        {
          "output_type": "execute_result",
          "data": {
            "text/plain": [
              "'Athabasca glacier was there in #1948 :-( #athabasca #glacier #jasper #jaspernationalpark #alberta #explorealberta #… http://t.co/dZZdqmf7Cz'"
            ],
            "application/vnd.google.colaboratory.intrinsic+json": {
              "type": "string"
            }
          },
          "metadata": {},
          "execution_count": 54
        }
      ]
    },
    {
      "cell_type": "code",
      "source": [
        "from nltk.corpus import stopwords\n",
        "stoplist = set(stopwords.words(\"english\"))\n",
        "for w in negative_tweets:\n",
        "    if w not in stoplist:\n",
        "        pass "
      ],
      "metadata": {
        "id": "dXiN5dk5p9VT"
      },
      "execution_count": 97,
      "outputs": []
    },
    {
      "cell_type": "code",
      "source": [
        ""
      ],
      "metadata": {
        "id": "GR_mzzSQuSi9"
      },
      "execution_count": null,
      "outputs": []
    }
  ]
}